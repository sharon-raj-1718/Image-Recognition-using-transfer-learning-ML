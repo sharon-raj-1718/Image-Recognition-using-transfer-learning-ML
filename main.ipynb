{
  "nbformat": 4,
  "nbformat_minor": 0,
  "metadata": {
    "colab": {
      "name": "main.ipynb",
      "provenance": [],
      "authorship_tag": "ABX9TyPV09aMODfsJ9HRPsA0dhJv",
      "include_colab_link": true
    },
    "kernelspec": {
      "name": "python3",
      "display_name": "Python 3"
    },
    "language_info": {
      "name": "python"
    }
  },
  "cells": [
    {
      "cell_type": "markdown",
      "metadata": {
        "id": "view-in-github",
        "colab_type": "text"
      },
      "source": [
        "<a href=\"https://colab.research.google.com/github/sharon-raj-1718/Image-Recognition-using-transfer-learning-ML/blob/main/main.ipynb\" target=\"_parent\"><img src=\"https://colab.research.google.com/assets/colab-badge.svg\" alt=\"Open In Colab\"/></a>"
      ]
    },
    {
      "cell_type": "code",
      "metadata": {
        "id": "OGtDjALFfXN9"
      },
      "source": [
        "import tensorflow as tf\n",
        "from tensorflow.keras.preprocessing.image import ImageDataGenerator\n",
        "import os\n",
        "\n",
        "imgdir=\"filepath\"\n",
        "\n",
        "# Define the parameters for the model and the number of image classes\n",
        "categ=int((len([i for i in os.walk(imgdir)])-1))\n",
        "bsize=1200\n",
        "stepsepoch=10\n",
        "epochs=100\n",
        "\n",
        "# We rescale, rotate and flip the images and define of the data for validation\n",
        "imgdg=ImageDataGenerator(rescale=1/255, validation_split=0.2, rotation_range=0.25, vertical_flip=True)\n",
        "\n",
        "# We define the different number of classes based on the folders and resize the size of the images in them\n",
        "traindg=imgdg.flow_from_directory(imgdir, target_size=(150,150), batch_size=bsize, subset=\"training\")\n",
        "valdg=imgdg.flow_from_directory(imgdir, target_size=(150,150), subset=\"validation\")\n",
        "\n",
        "# Model Callbacks\n",
        "callback1=tf.keras.callbacks.EarlyStopping(monitor=\"val_accuracy\", patience=15)\n",
        "callback2=tf.keras.callbacks.EarlyStopping(monitor=\"val_accuracy\", baseline=0.97,mode=\"max\", patience=10)\n",
        "callback3=tf.keras.callbacks.ModelCheckpoint(\"model.hdf5\", monitor=\"val_accuracy\",save_best_only=True)\n",
        "\n",
        "# We instantiate the base model that we want to use, in this case a model trained on the ImageNet dataset\n",
        "base_model = tf.keras.applications.MobileNetV2(weights=\"imagenet\", input_shape=(150,150,3), include_top=False)\n",
        "# We freeze the layers of the model to avoid their modification\n",
        "base_model.trainable=False\n",
        "\n",
        "# We define the new model on top of the base model\n",
        "inputs=tf.keras.Input(shape=(150,150,3))\n",
        "x=base_model(inputs, training=False)\n",
        "x=tf.keras.layers.GlobalAveragePooling2D()(x)\n",
        "x=tf.keras.layers.Dense(units=1024, activation=\"relu\")(x)\n",
        "x=tf.keras.layers.Dropout(rate=0.2)(x)\n",
        "x=tf.keras.layers.Dense(units=512, activation=\"relu\")(x)\n",
        "x=tf.keras.layers.Dropout(rate=0.2)(x)\n",
        "x=tf.keras.layers.Dense(units=100, activation=\"relu\")(x)\n",
        "x=tf.keras.layers.Dense(units=100, activation=\"relu\")(x)\n",
        "x=tf.keras.layers.Dense(units=1000, name=\"extraction\", activation=\"relu\")(x)\n",
        "outputs=tf.keras.layers.Dense(units=categ, activation=\"softmax\")(x)\n",
        "model=tf.keras.Model(inputs=inputs, outputs=outputs)\n",
        "\n",
        "model.compile(optimizer=\"Adam\", loss=\"categorical_crossentropy\", metrics=[\"accuracy\"])\n",
        "\n",
        "model.summary()\n",
        "\n",
        "history=model.fit_generator(traindg, steps_per_epoch=stepsepoch, epochs=epochs,\n",
        "                    validation_data=valdg, callbacks=[callback1, callback2, callback3])"
      ],
      "execution_count": null,
      "outputs": []
    }
  ]
}